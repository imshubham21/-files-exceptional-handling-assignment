{
 "cells": [
  {
   "cell_type": "markdown",
   "id": "294cf75e-d13c-4311-9a53-53c21524b9e6",
   "metadata": {},
   "source": [
    "e"
   ]
  },
  {
   "cell_type": "markdown",
   "id": "2462e084-600c-4afa-870e-8c40b5697aab",
   "metadata": {},
   "source": [
    "### 1. Discuss the scenarios where multithreading is preferable to multiprocessing and scenarios where multiprocessing is a better choice."
   ]
  },
  {
   "cell_type": "markdown",
   "id": "85898ee2-21f2-4d88-bcab-1123364199fe",
   "metadata": {},
   "source": [
    "#### Multithreading\n",
    "\n",
    "Preferable Scenarios:\n",
    "\n",
    "1. I/O-bound operations: Multithreading excels in I/O-bound tasks, such as:\n",
    "    - Network requests\n",
    "    - Database queries\n",
    "    - File operations\n",
    "    - GUI applications\n",
    "2. Shared memory: When threads need to share data, multithreading is a better choice, as threads share the same memory space.\n",
    "3. Low CPU usage: Multithreading is suitable for tasks with low CPU usage, avoiding context switching overhead.\n",
    "4. Real-time systems: Multithreading is often used in real-time systems, where predictable latency is crucial.\n",
    "\n",
    "\n",
    "#### Multiprocessing\n",
    "\n",
    "Preferable Scenarios:\n",
    "\n",
    "1. CPU-bound operations: Multiprocessing is ideal for CPU-intensive tasks, such as:\n",
    "    - Scientific computing\n",
    "    - Data compression\n",
    "    - Image processing\n",
    "    - Video encoding\n",
    "2. Parallel execution: When tasks are independent and can run in parallel, multiprocessing can provide significant speedups.\n",
    "3. Large datasets: Multiprocessing can handle large datasets more efficiently, as each process has its own memory space.\n",
    "4. Computational clusters: Multiprocessing is used in distributed computing environments, such as clusters and grids.\n",
    "\n",
    "\n",
    "Comparison Summary\n",
    "\n",
    "| Criteria | Multithreading | Multiprocessing |\n",
    "| --- | --- | --- |\n",
    "| I/O-bound vs CPU-bound | I/O-bound | CPU-bound |\n",
    "| Shared memory | Shared memory space | Separate memory spaces |\n",
    "| Resource usage | Lower memory, lower CPU | Higher memory, higher CPU |\n",
    "| Overhead | Lower overhead | Higher overhead (context switching) |\n",
    "| Complexity | Easier synchronization | Harder synchronization |\n",
    "\n",
    "\n"
   ]
  },
  {
   "cell_type": "markdown",
   "id": "cb6743df-866c-413b-901d-22b88338794e",
   "metadata": {},
   "source": [
    "### 2. Describe what a process pool is and how it helps in managing multiple processes efficiently."
   ]
  },
  {
   "cell_type": "markdown",
   "id": "cff44190-8906-4b8f-bb8b-f686f497fb95",
   "metadata": {},
   "source": [
    "#### Process Pool: Efficient Management of Multiple Processes\n",
    "\n",
    "A process pool is a group of worker processes that can execute multiple tasks concurrently, improving the efficiency of process management. It's a high-level abstraction that simplifies managing multiple processes, allowing you to:\n",
    "\n",
    "#### Key Benefits:\n",
    "\n",
    "1. Concurrent Execution: Execute multiple tasks simultaneously, leveraging multiple CPU cores.\n",
    "2. Efficient Resource Utilization: Reuse existing processes, reducing overhead from process creation and termination.\n",
    "3. Simplified Task Management: Submit tasks to the pool, and it handles process allocation and result retrieval.\n",
    "4. Improved Fault Tolerance: Isolate tasks from each other, preventing one task's failure from affecting others.\n",
    "\n",
    "#### How Process Pools Work:\n",
    "\n",
    "1. Pool Creation: Create a pool with a specified number of worker processes.\n",
    "2. Task Submission: Submit tasks to the pool, which allocates an available worker process.\n",
    "3. Task Execution: Worker processes execute tasks concurrently.\n",
    "4. Result Retrieval: Results are collected from the worker processes and returned to the main process.\n",
    "5. Pool Termination: Shut down the pool when all tasks are completed.\n",
    "\n"
   ]
  },
  {
   "cell_type": "markdown",
   "id": "ca38ddd6-b2f5-4743-895f-e9fa9424b80e",
   "metadata": {},
   "source": [
    "### 3. Explain what multiprocessing is and why it is used in Python programs."
   ]
  },
  {
   "cell_type": "markdown",
   "id": "48f7db46-c7c2-47da-a023-b496b1f45bda",
   "metadata": {},
   "source": [
    "#### Multiprocessing is a technique where multiple processes are executed concurrently, leveraging multiple CPU cores to improve program performance. In Python, multiprocessing is used to:\n",
    "\n",
    "#### Why Multiprocessing?\n",
    "\n",
    "1. CPU-bound tasks: Overcome Global Interpreter Lock (GIL) limitations for CPU-intensive tasks.\n",
    "2. Parallel execution: Execute multiple tasks simultaneously, reducing overall execution time.\n",
    "3. Memory-intensive tasks: Utilize multiple memory spaces, avoiding memory constraints.\n",
    "4. Improved responsiveness: Enhance user experience by performing tasks in the background.\n",
    "\n",
    "#### Key Concepts:\n",
    "\n",
    "1. Process: Independent execution unit with its own memory space.\n",
    "2. Parent process: The process that creates new processes.\n",
    "3. Child process: Newly created process.\n",
    "4. Inter-process communication (IPC): Communication between processes.\n",
    "\n",
    "#### Python Multiprocessing Module:\n",
    "\n",
    "The multiprocessing module provides an interface for spawning new processes and communicating between them.\n",
    "\n",
    "Main Functions:\n",
    "\n",
    "1. Process(): Create a new process.\n",
    "2. Pool(): Create a pool of worker processes.\n",
    "3. Queue(): Create a shared queue for IPC.\n",
    "4. Pipe(): Create a pipe for IPC.\n"
   ]
  },
  {
   "cell_type": "markdown",
   "id": "ce4d632a-327f-4a32-bede-f3614258ab4b",
   "metadata": {},
   "source": [
    "### 4. Write a Python program using multithreading where one thread adds numbers to a list, and another thread removes numbers from the list. Implement a mechanism to avoid race conditions using threading.Lock."
   ]
  },
  {
   "cell_type": "code",
   "execution_count": 21,
   "id": "9c5e0bb1-a16c-4c98-9681-cd2652a68092",
   "metadata": {},
   "outputs": [
    {
     "name": "stdout",
     "output_type": "stream",
     "text": [
      "Added: 19\n",
      "Removed: 19\n",
      "Added: 70\n",
      "Removed: 70\n",
      "Added: 92\n",
      "Removed: 92\n",
      "Added: 21\n",
      "Added: 5\n",
      "Removed: 5\n",
      "Added: 17\n",
      "Removed: 17\n",
      "Added: 68\n",
      "Added: 71\n",
      "Removed: 71\n",
      "Added: 49\n",
      "Removed: 49\n",
      "Added: 48\n",
      "Removed: 48\n",
      "Removed: 68\n",
      "Removed: 21\n",
      "Final List: []\n"
     ]
    }
   ],
   "source": [
    "import threading\n",
    "import random\n",
    "import time\n",
    "\n",
    "# Shared list and lock\n",
    "shared_list = []\n",
    "lock = threading.Lock()\n",
    "\n",
    "# Thread function to add numbers to the list\n",
    "def add_numbers():\n",
    "    for _ in range(10):\n",
    "        with lock:  # Acquire lock before modifying the list\n",
    "            num = random.randint(1, 100)\n",
    "            shared_list.append(num)\n",
    "            print(f\"Added: {num}\")\n",
    "        time.sleep(0.5)  # Simulate work\n",
    "\n",
    "# Thread function to remove numbers from the list\n",
    "def remove_numbers():\n",
    "    for _ in range(10):\n",
    "        with lock:  # Acquire lock before modifying the list\n",
    "            if shared_list:\n",
    "                num = shared_list.pop()\n",
    "                print(f\"Removed: {num}\")\n",
    "            else:\n",
    "                print(\"List is empty\")\n",
    "        time.sleep(0.7)  # Simulate work\n",
    "\n",
    "# Create threads\n",
    "add_thread = threading.Thread(target=add_numbers)\n",
    "remove_thread = threading.Thread(target=remove_numbers)\n",
    "\n",
    "# Start threads\n",
    "add_thread.start()\n",
    "remove_thread.start()\n",
    "\n",
    "# Wait for threads to finish\n",
    "add_thread.join()\n",
    "remove_thread.join()\n",
    "\n",
    "print(\"Final List:\", shared_list)\n"
   ]
  },
  {
   "cell_type": "markdown",
   "id": "fcfcd0d2-02bd-450a-9ff0-f0419aa35665",
   "metadata": {},
   "source": [
    "### 5. Describe the methods and tools available in Python for safely sharing data between threads and processes."
   ]
  },
  {
   "cell_type": "markdown",
   "id": "badd8176-fee6-40f4-8bb7-35601a22494f",
   "metadata": {},
   "source": [
    "#### Sharing Data Between Threads and Processes in Python\n",
    "\n",
    "Python provides various methods and tools for safely sharing data between threads and processes.\n",
    "\n",
    "#### Thread-Safe Data Sharing\n",
    "\n",
    "1. *Locks (threading.Lock)*: Synchronize access to shared resources.\n",
    "2. *RLocks (threading.RLock)*: Reentrant locks for recursive locking.\n",
    "3. *Semaphores (threading.Semaphore)*: Limit access to shared resources.\n",
    "4. *Condition Variables (threading.Condition)*: Notify threads of changes.\n",
    "5. *Queues (queue.Queue)*: Thread-safe FIFO queues.\n",
    "6. *Events (threading.Event)*: Notify threads of events.\n",
    "\n",
    "#### Process-Safe Data Sharing\n",
    "\n",
    "1. *Pipes (multiprocessing.Pipe)*: Unidirectional communication.\n",
    "2. *Queues (multiprocessing.Queue)*: Process-safe FIFO queues.\n",
    "3. *Shared Memory (multiprocessing.Array/Value)*: Shared memory blocks.\n",
    "4. *Managers (multiprocessing.Manager)*: Shared data structures (e.g., lists, dictionaries).\n",
    "5. *Server Processes (multiprocessing.Server)*: Inter-process communication.\n",
    "\n",
    "#### Data Structures\n",
    "\n",
    "1. *Thread-safe dictionaries (collections.OrderedDict)*: Thread-safe dictionary.\n",
    "2. *Thread-safe lists (queue.deque)*: Thread-safe list.\n",
    "\n",
    "#### Additional Tools\n",
    "\n",
    "1. *threading.Thread.join()*: Wait for threads to finish.\n",
    "2. *multiprocessing.Process.join()*: Wait for processes to finish.\n",
    "3. *concurrent.futures*: High-level concurrency API.\n",
    "\n",
    "#### Best Practices\n",
    "\n",
    "1. Minimize shared data: Reduce synchronization overhead.\n",
    "2. Use locks sparingly: Avoid performance bottlenecks.\n",
    "3. Choose the right data structure: Select thread-safe or process-safe data structures.\n",
    "4. Avoid shared mutable state: Use immutable data or synchronization primitives.\n",
    "5. Document synchronization: Clearly document synchronization mechanisms.\n"
   ]
  },
  {
   "cell_type": "markdown",
   "id": "dff264a7-2fd8-4bf3-a9b8-c830865b0a5c",
   "metadata": {},
   "source": [
    "### 6. Discuss why it’s crucial to handle exceptions in concurrent programs and the techniques available for doing so."
   ]
  },
  {
   "cell_type": "markdown",
   "id": "3611c97b-b6e4-479c-aa24-d4c93311eace",
   "metadata": {},
   "source": [
    "#### Handling exceptions in concurrent programs is crucial to ensure:\n",
    "\n",
    "1. Reliability: Prevent program crashes or unexpected behavior.\n",
    "2. Stability: Maintain system stability despite errors.\n",
    "3. Debugging: Simplify error identification and debugging.\n",
    "4. Resource Management: Prevent resource leaks.\n",
    "\n",
    "#### Challenges in Handling Exceptions in Concurrent Programs\n",
    "\n",
    "1. Non-deterministic behavior: Concurrent execution makes it difficult to predict error occurrence.\n",
    "2. Inter-thread dependencies: Exceptions can propagate across threads.\n",
    "3. Resource sharing: Shared resources can lead to complex error handling.\n",
    "\n",
    "#### Techniques for Handling Exceptions in Concurrent Programs\n",
    "\n",
    "Thread-level exception handling\n",
    "\n",
    "1. Try-except blocks: Wrap thread code in try-except blocks.\n",
    "2. Thread-specific exception handlers: Use threading.excepthook (Python).\n",
    "\n",
    "Process-level exception handling\n",
    "\n",
    "1. Try-except blocks: Wrap process code in try-except blocks.\n",
    "2. Process-specific exception handlers: Use multiprocessing.excepthook (Python).\n",
    "\n",
    "Centralized exception handling\n",
    "\n",
    "1. Global exception handlers: Catch exceptions at the main thread/process level.\n",
    "2. Exception propagation: Propagate exceptions from child threads/processes to parent.\n",
    "\n",
    "Async-friendly exception handling\n",
    "\n",
    "1. Future objects: Use concurrent.futures.Future objects to handle exceptions.\n",
    "2. Async/await syntax: Use try-except blocks with async/await syntax.\n",
    "\n",
    "#### Best Practices\n",
    "\n",
    "1. Catch specific exceptions: Avoid catching broad exceptions.\n",
    "2. Log exceptions: Record exceptions for debugging.\n",
    "3. Handle exceptions asynchronously: Prevent blocking.\n",
    "4. Test exception handling: Verify exception handling mechanisms.\n"
   ]
  },
  {
   "cell_type": "markdown",
   "id": "5efcf94b-8b79-41f0-889b-68825f918ed7",
   "metadata": {},
   "source": [
    "### 7. Create a program that uses a thread pool to calculate the factorial of numbers from 1 to 10 concurrently. Use concurrent.futures.ThreadPoolExecutor to manage the threads."
   ]
  },
  {
   "cell_type": "code",
   "execution_count": 28,
   "id": "42b41441-479e-48a9-8a64-684959f99f26",
   "metadata": {},
   "outputs": [
    {
     "name": "stdout",
     "output_type": "stream",
     "text": [
      "Factorial of 9 = 362880\n",
      "Factorial of 3 = 6\n",
      "Factorial of 7 = 5040\n",
      "Factorial of 8 = 40320\n",
      "Factorial of 2 = 2\n",
      "Factorial of 6 = 720\n",
      "Factorial of 4 = 24\n",
      "Factorial of 5 = 120\n",
      "Factorial of 1 = 1\n",
      "Factorial of 10 = 3628800\n"
     ]
    }
   ],
   "source": [
    "import concurrent.futures\n",
    "import math\n",
    "\n",
    "def calculate_factorial(n):\n",
    "    \"\"\"Calculate the factorial of a number\"\"\"\n",
    "    result = 1\n",
    "    for i in range(1, n + 1):\n",
    "        result *= i\n",
    "    return n, result\n",
    "\n",
    "def main():\n",
    "    # Create a thread pool with 5 worker threads\n",
    "    with concurrent.futures.ThreadPoolExecutor(max_workers=5) as executor:\n",
    "        # Submit tasks to the thread pool\n",
    "        futures = {executor.submit(calculate_factorial, n): n for n in range(1, 11)}\n",
    "\n",
    "        # Collect results as they become available\n",
    "        for future in concurrent.futures.as_completed(futures):\n",
    "            n = futures[future]\n",
    "            try:\n",
    "                result = future.result()\n",
    "                print(f\"Factorial of {result[0]} = {result[1]}\")\n",
    "            except Exception as e:\n",
    "                print(f\"Error calculating factorial of {n}: {e}\")\n",
    "\n",
    "if __name__ == \"__main__\":\n",
    "    main()\n"
   ]
  },
  {
   "cell_type": "markdown",
   "id": "2ec3bec7-c0f9-425b-89aa-dfe413f94aee",
   "metadata": {},
   "source": [
    "#### 8. Create a Python program that uses multiprocessing.Pool to compute the square of numbers from 1 to 10 inparallel. Measure the time taken to perform this computation using a pool of different sizes (e.g., 2, 4, 8processes)."
   ]
  },
  {
   "cell_type": "code",
   "execution_count": null,
   "id": "5eb7b96c-0d1d-45b5-9a55-1b1eb3a375c5",
   "metadata": {},
   "outputs": [],
   "source": []
  },
  {
   "cell_type": "code",
   "execution_count": null,
   "id": "36bc31a6-e8d6-4cdb-b3a4-b718570e025b",
   "metadata": {},
   "outputs": [],
   "source": []
  }
 ],
 "metadata": {
  "kernelspec": {
   "display_name": "Python 3 (ipykernel)",
   "language": "python",
   "name": "python3"
  },
  "language_info": {
   "codemirror_mode": {
    "name": "ipython",
    "version": 3
   },
   "file_extension": ".py",
   "mimetype": "text/x-python",
   "name": "python",
   "nbconvert_exporter": "python",
   "pygments_lexer": "ipython3",
   "version": "3.12.4"
  }
 },
 "nbformat": 4,
 "nbformat_minor": 5
}
